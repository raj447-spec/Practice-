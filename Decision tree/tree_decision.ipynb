{
 "cells": [
  {
   "cell_type": "markdown",
   "id": "5ba2d9fc",
   "metadata": {},
   "source": [
    "# Decision Tree Visualizations\n",
    "This notebook demonstrates key visualization techniques for decision trees."
   ]
  },
  {
   "cell_type": "code",
   "execution_count": null,
   "id": "eacc78e2",
   "metadata": {},
   "outputs": [],
   "source": [
    "import pandas as pd\n",
    "import numpy as np\n",
    "import matplotlib.pyplot as plt\n",
    "from sklearn.tree import DecisionTreeClassifier\n",
    "from dmba import plotDecisionTree, classificationSummary\n",
    "import dmba\n",
    "\n",
    "# Load the data\n",
    "mower_df = dmba.load_data('RidingMowers.csv')\n",
    "\n",
    "# Create and fit the model\n",
    "X = mower_df.drop(columns=['Ownership'])\n",
    "y = mower_df['Ownership']\n",
    "tree = DecisionTreeClassifier(random_state=0)\n",
    "tree.fit(X, y)\n",
    "\n",
    "# 1. Basic Decision Tree Visualization\n",
    "plt.figure(figsize=(10, 6))\n",
    "plotDecisionTree(tree, feature_names=X.columns, class_names=tree.classes_)\n",
    "plt.title('Basic Decision Tree Structure')\n",
    "plt.show()\n",
    "\n",
    "# 2. Feature Space Partitioning\n",
    "plt.figure(figsize=(8, 6))\n",
    "plt.scatter(mower_df[mower_df['Ownership']=='Owner']['Income'], \n",
    "           mower_df[mower_df['Ownership']=='Owner']['Lot_Size'],\n",
    "           label='Owner')\n",
    "plt.scatter(mower_df[mower_df['Ownership']=='Nonowner']['Income'],\n",
    "           mower_df[mower_df['Ownership']=='Nonowner']['Lot_Size'],\n",
    "           label='Nonowner')\n",
    "plt.xlabel('Income ($000s)')\n",
    "plt.ylabel('Lot Size (000s sqft)')\n",
    "plt.title('Decision Boundaries in Feature Space')\n",
    "plt.legend()\n",
    "plt.show()\n",
    "\n",
    "# 3. Feature Importance Plot\n",
    "importances = tree.feature_importances_\n",
    "features = X.columns\n",
    "plt.figure(figsize=(8, 4))\n",
    "plt.barh(features, importances)\n",
    "plt.xlabel('Feature Importance')\n",
    "plt.title('Variable Importance in Decision Tree')\n",
    "plt.show()"
   ]
  }
 ],
 "metadata": {
  "language_info": {
   "name": "python"
  }
 },
 "nbformat": 4,
 "nbformat_minor": 5
}
